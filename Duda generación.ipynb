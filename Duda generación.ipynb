{
 "cells": [
  {
   "cell_type": "code",
   "execution_count": 1,
   "metadata": {},
   "outputs": [],
   "source": [
    "#!pip install pvlib\n",
    "#!pip install --force-reinstall --no-deps git+https://github.com/isi-ies-group/cpvlib.git"
   ]
  },
  {
   "cell_type": "code",
   "execution_count": 2,
   "metadata": {},
   "outputs": [],
   "source": [
    "import pandas as pd\n",
    "import pvlib\n",
    "import datetime\n",
    "import matplotlib.pyplot as plt\n",
    "import numpy as np\n",
    "from cpvlib import cpvsystem"
   ]
  },
  {
   "cell_type": "markdown",
   "metadata": {},
   "source": [
    "# Datos del módulo de vidrio solar"
   ]
  },
  {
   "cell_type": "code",
   "execution_count": 3,
   "metadata": {},
   "outputs": [],
   "source": [
    "mod_params_vidrio = {\n",
    "    'alpha_sc': 0.0008*8.93,#temp coef of Isc 0.007144\n",
    "    'a_ref': 0.712,\n",
    "    'I_L_ref': 8.994,\n",
    "    'I_o_ref': 0.00000157,\n",
    "    'R_s': 0.01,\n",
    "    'R_sh_ref': 3000,\n",
    "    'EgRef': 1.121,\n",
    "}\n",
    "\n",
    "system = {   \n",
    "    'surface_tilt': 30,\n",
    "    'surface_azimuth': 180,\n",
    "}"
   ]
  },
  {
   "cell_type": "markdown",
   "metadata": {},
   "source": [
    "# Datos del módulo híbrido de Insolight"
   ]
  },
  {
   "cell_type": "code",
   "execution_count": 4,
   "metadata": {},
   "outputs": [],
   "source": [
    "mod_params_cpv = {\n",
    "    \"gamma_ref\": 5.524,\n",
    "    \"mu_gamma\": 0.003,\n",
    "    \"I_L_ref\": 0.96*0.9,\n",
    "    \"I_o_ref\": 1.7e-10,\n",
    "    \"R_sh_ref\": 5226,\n",
    "    \"R_sh_0\": 21000,\n",
    "    \"R_sh_exp\": 5.50,\n",
    "    \"R_s\": 0.01,\n",
    "    \"alpha_sc\": 0.00,\n",
    "    \"EgRef\": 3.91,\n",
    "    \"irrad_ref\": 1000,\n",
    "    \"temp_ref\": 25,\n",
    "    \"cells_in_series\": 12,\n",
    "    \"eta_m\": 0.32,\n",
    "    \"alpha_absorption\": 0.9,\n",
    "    \"b\": 0.7,\n",
    "    \"iam_model\": 'ashrae',\n",
    "    \"theta_ref\": [0, 5, 10, 15, 20, 25, 30, 35, 40, 45, 50, 55, 60],\n",
    "    \"iam_ref\": [1.000, 1.007, 0.998, 0.991, 0.971, 0.966, 0.938, 0.894, 0.830, 0.790, 0.740, 0.649, 0.387],\n",
    "}\n",
    "\n",
    "UF_parameters_cpv = {\n",
    "    \"IscDNI_top\": 0.96 / 1000,\n",
    "    \"am_thld\": 4.574231933073185,\n",
    "    \"am_uf_m_low\": 3.906372068620377e-06,\n",
    "    \"am_uf_m_high\": -3.0335768119184845e-05,\n",
    "    \"ta_thld\": 50,\n",
    "    \"ta_uf_m_low\": 4.6781224141650075e-06,\n",
    "    \"ta_uf_m_high\": 0,\n",
    "    \"weight_am\": 0.2,\n",
    "    \"weight_temp\": 0.8,\n",
    "}\n",
    "\n",
    "mod_params_cpv.update(UF_parameters_cpv)\n",
    "\n",
    "# example (NO Insolight) PV module from:\n",
    "# https://pvpmc.sandia.gov/PVLIB_Matlab_Help/html/pvl_calcparams_PVsyst_help.html\n",
    "mod_params_flatplate = {\n",
    "    \"gamma_ref\": 1.1,\n",
    "    \"mu_gamma\": -0.0003,\n",
    "    \"I_L_ref\": 8,\n",
    "    \"I_o_ref\": 2.2e-9,\n",
    "    \"R_sh_ref\": 200,\n",
    "    \"R_sh_0\": 8700,\n",
    "    \"R_sh_exp\": 5.5,\n",
    "    \"R_s\": 0.33,\n",
    "    \"alpha_sc\": -0.002,\n",
    "    \"EgRef\": 1.121,\n",
    "    \"irrad_ref\": 1000,\n",
    "    \"temp_ref\": 25,\n",
    "    \"cells_in_series\": 4, # 60,\n",
    "    \"eta_m\": 0.95,  # pvsyst_celltemp() default value\n",
    "    \"alpha_absorption\": 0.97,  # pvsyst_celltemp() default value\n",
    "    \"aoi_limit\": 55,\n",
    "}"
   ]
  },
  {
   "cell_type": "markdown",
   "metadata": {},
   "source": [
    "# Obtención de datos solares"
   ]
  },
  {
   "cell_type": "code",
   "execution_count": 5,
   "metadata": {},
   "outputs": [],
   "source": [
    "lat, lon, alt, tz = 40.4, -3.7, 695, 'utc'\n",
    "location = pvlib.location.Location(latitude=lat, \n",
    "                                   longitude=lon, \n",
    "                                   altitude=alt, \n",
    "                                   tz=tz)\n",
    "\n",
    "data_pvgis = pvlib.iotools.get_pvgis_tmy(lat, lon)\n",
    "data = data_pvgis[0].rename(columns={\n",
    "    'Gb(n)': 'dni',\n",
    "    'G(h)': 'ghi',\n",
    "    'Gd(h)': 'dhi',\n",
    "    'T2m': 'temp_air',\n",
    "    'WS10m': 'wind_speed',\n",
    "})\n",
    "\n",
    "#data.index = pd.to_datetime(data.index)\n",
    "#data = data.sort_index()\n",
    "#data1 = data['2010']  #Seleccionar un año completo\n",
    "#data2 = data['2010-04']  #Seleccionar un mes completo\n",
    "#data3 = data['2010-07-01':'2010-07-05']  #Seleccionar periodo entre fechas\n",
    "\n",
    "dataX = data.set_index(\n",
    "    data.index.map(lambda t: t.replace(year=2010)))\n",
    "\n",
    "\n",
    "data0 = dataX  #Usado para las gráficas:\n",
    "\n",
    "solar_zenith = location.get_solarposition(data0.index).zenith\n",
    "solar_azimuth = location.get_solarposition(data0.index).azimuth"
   ]
  },
  {
   "cell_type": "code",
   "execution_count": 6,
   "metadata": {},
   "outputs": [],
   "source": [
    "dii = pvlib.irradiance.beam_component(system['surface_tilt'],\n",
    "                                      system['surface_azimuth'],\n",
    "                                      solar_zenith,\n",
    "                                      solar_azimuth,\n",
    "                                      dni=data0['dni'])\n",
    "\n",
    "aoi = pvlib.irradiance.aoi(system['surface_tilt'], \n",
    "                           system['surface_azimuth'],\n",
    "                           solar_zenith,\n",
    "                           solar_azimuth)\n",
    "\n",
    "poa_sky=pvlib.irradiance.get_sky_diffuse(system['surface_tilt'],\n",
    "                                         system['surface_azimuth'],\n",
    "                                         solar_zenith, \n",
    "                                         solar_azimuth, \n",
    "                                         ghi=data0['ghi'],\n",
    "                                         dhi=data0['dhi'],\n",
    "                                         dni=data0['dni'],\n",
    "                                         dni_extra=None, \n",
    "                                         airmass=None, \n",
    "                                         model='isotropic', \n",
    "                                         model_perez='allsitescomposite1990')\n",
    "\n",
    "poa_ground=pvlib.irradiance.get_ground_diffuse(system['surface_tilt'], \n",
    "                                               ghi=data0['ghi'], \n",
    "                                               albedo=0.25, \n",
    "                                               surface_type=None)\n",
    "\n",
    "poa_irrad=pvlib.irradiance.poa_components(aoi=aoi, \n",
    "                                          dni=data0['dni'], \n",
    "                                          poa_sky_diffuse=poa_sky, \n",
    "                                          poa_ground_diffuse=poa_ground)\n",
    "\n",
    "effectiveIrradiance = poa_irrad.poa_direct * np.absolute(np.cos(aoi)) * pvlib.iam.ashrae(aoi) + poa_irrad.poa_diffuse\n"
   ]
  },
  {
   "cell_type": "markdown",
   "metadata": {},
   "source": [
    "# Cálculos para el vídrio solar"
   ]
  },
  {
   "cell_type": "code",
   "execution_count": 7,
   "metadata": {},
   "outputs": [],
   "source": [
    "tempcell=pvlib.temperature.pvsyst_cell(poa_irrad.poa_global, \n",
    "                                       data0['temp_air'], \n",
    "                                       data0['wind_speed'])\n",
    "\n",
    "IL, I0, Rs, Rsh, nNsVth = pvlib.pvsystem.calcparams_desoto(\n",
    "    effective_irradiance=effectiveIrradiance,\n",
    "    temp_cell=tempcell,\n",
    "    alpha_sc=mod_params_vidrio['alpha_sc'],\n",
    "    a_ref=mod_params_vidrio['a_ref'],\n",
    "    I_L_ref=mod_params_vidrio['I_L_ref'],\n",
    "    I_o_ref=mod_params_vidrio['I_o_ref'],\n",
    "    R_sh_ref=mod_params_vidrio['R_sh_ref'],\n",
    "    R_s=mod_params_vidrio['R_s'],\n",
    "    EgRef=mod_params_vidrio['EgRef'],\n",
    ")\n",
    "\n",
    "dc_pv = pvlib.pvsystem.singlediode(\n",
    "    photocurrent=IL,\n",
    "    saturation_current=I0,\n",
    "    resistance_series=Rs,\n",
    "    resistance_shunt=Rsh,\n",
    "    nNsVth=nNsVth,\n",
    "    ivcurve_pnts=100,\n",
    "    method='lambertw'\n",
    ")"
   ]
  },
  {
   "cell_type": "markdown",
   "metadata": {},
   "source": [
    "# Cálculos para el módulo híbrido de Insolight"
   ]
  },
  {
   "cell_type": "code",
   "execution_count": 8,
   "metadata": {},
   "outputs": [],
   "source": [
    "static_hybrid_sys = cpvsystem.StaticHybridSystem(\n",
    "    surface_tilt=system['surface_tilt'],\n",
    "    surface_azimuth=system['surface_azimuth'],\n",
    "    module_cpv=None,\n",
    "    module_flatplate=None,\n",
    "    module_parameters_cpv=mod_params_cpv,\n",
    "    module_parameters_flatplate=mod_params_flatplate,\n",
    "    modules_per_string=1,\n",
    "    strings_per_inverter=1,\n",
    "    inverter=None,\n",
    "    inverter_parameters=None,\n",
    "    racking_model=\"insulated\",\n",
    "    losses_parameters=None,\n",
    "    name=None,\n",
    ")\n",
    "\n",
    "dii_effective, poa_flatplate_static_effective = static_hybrid_sys.get_effective_irradiance(\n",
    "    solar_zenith,\n",
    "    solar_azimuth,\n",
    "    #iam_param=0.7,\n",
    "    #aoi_limit=55,\n",
    "    dii=None,\n",
    "    ghi=data0['ghi'],\n",
    "    dhi=data0['dhi'],\n",
    "    dni=data0['dni']\n",
    ")\n",
    "\n",
    "\n",
    "temp_cell_35, temp_cell_flatplate = static_hybrid_sys.pvsyst_celltemp(\n",
    "    dii=dii_effective,\n",
    "    poa_flatplate_static=poa_flatplate_static_effective,\n",
    "    temp_air=data0['temp_air'],\n",
    "    wind_speed=data0['wind_speed']\n",
    ")\n",
    "\n",
    "diode_parameters_cpv, diode_parameters_flatplate = static_hybrid_sys.calcparams_pvsyst(\n",
    "    dii=dii_effective,\n",
    "    poa_flatplate_static=poa_flatplate_static_effective,\n",
    "    temp_cell_cpv=temp_cell_35,\n",
    "    temp_cell_flatplate=temp_cell_flatplate,\n",
    ")\n",
    "\n",
    "dc_cpv, dc_flatplate = static_hybrid_sys.singlediode(\n",
    "    diode_parameters_cpv, diode_parameters_flatplate)\n",
    "\n",
    "airmass_absolute = location.get_airmass(data0.index).airmass_absolute\n",
    "\n",
    "uf_cpv = static_hybrid_sys.get_global_utilization_factor_cpv(airmass_absolute, data0['temp_air'])"
   ]
  },
  {
   "cell_type": "markdown",
   "metadata": {},
   "source": [
    "# Cálculos energéticos"
   ]
  },
  {
   "cell_type": "code",
   "execution_count": 9,
   "metadata": {},
   "outputs": [
    {
     "name": "stdout",
     "output_type": "stream",
     "text": [
      "E_Vidrio=92292 Wh\n",
      "E_CPV=25758 Wh E_diff=8833 Wh\n",
      "Total Insolight=34592 Wh\n"
     ]
    }
   ],
   "source": [
    "energy_vidrio = dc_pv['p_mp'].sum()\n",
    "print(f\"E_Vidrio={energy_vidrio:.0f} Wh\")\n",
    "\n",
    "energy_cpv = (dc_cpv['p_mp'] * uf_cpv).sum()\n",
    "energy_flatplate = dc_flatplate['p_mp'].sum()\n",
    "print(f\"E_CPV={energy_cpv:.0f} Wh\", f\"E_diff={energy_flatplate:.0f} Wh\")\n",
    "\n",
    "total_insolight = energy_cpv+energy_flatplate\n",
    "print(f\"Total Insolight={total_insolight:.0f} Wh\")"
   ]
  },
  {
   "cell_type": "markdown",
   "metadata": {},
   "source": [
    "### Observamos que la generación calculada del vidrio solar resulta muy superior a la de Insolight, casi 3 veces mayor, por lo que debe haber algún error en los cálculos."
   ]
  },
  {
   "cell_type": "markdown",
   "metadata": {},
   "source": [
    "# Comprobación de datos"
   ]
  },
  {
   "cell_type": "code",
   "execution_count": 10,
   "metadata": {},
   "outputs": [
    {
     "data": {
      "image/png": "[encoded data removed]",
      "text/plain": [
       "<Figure size 432x288 with 1 Axes>"
      ]
     },
     "metadata": {
      "needs_background": "light"
     },
     "output_type": "display_data"
    }
   ],
   "source": [
    "plt.plot(effectiveIrradiance, label='effective irradiance')\n",
    "plt.plot(dii_effective, label='dii effective')\n",
    "plt.plot(poa_flatplate_static_effective, label='poa effective')\n",
    "plt.legend()\n",
    "plt.show()"
   ]
  },
  {
   "cell_type": "code",
   "execution_count": 11,
   "metadata": {
    "scrolled": false
   },
   "outputs": [
    {
     "data": {
      "text/html": [
       "<div>\n",
       "<style scoped>\n",
       "    .dataframe tbody tr th:only-of-type {\n",
       "        vertical-align: middle;\n",
       "    }\n",
       "\n",
       "    .dataframe tbody tr th {\n",
       "        vertical-align: top;\n",
       "    }\n",
       "\n",
       "    .dataframe thead th {\n",
       "        text-align: right;\n",
       "    }\n",
       "</style>\n",
       "<table border=\"1\" class=\"dataframe\">\n",
       "  <thead>\n",
       "    <tr style=\"text-align: right;\">\n",
       "      <th></th>\n",
       "      <th>temp_air</th>\n",
       "      <th>RH</th>\n",
       "      <th>ghi</th>\n",
       "      <th>dni</th>\n",
       "      <th>dhi</th>\n",
       "      <th>IR(h)</th>\n",
       "      <th>wind_speed</th>\n",
       "      <th>WD10m</th>\n",
       "      <th>SP</th>\n",
       "    </tr>\n",
       "    <tr>\n",
       "      <th>time(UTC)</th>\n",
       "      <th></th>\n",
       "      <th></th>\n",
       "      <th></th>\n",
       "      <th></th>\n",
       "      <th></th>\n",
       "      <th></th>\n",
       "      <th></th>\n",
       "      <th></th>\n",
       "      <th></th>\n",
       "    </tr>\n",
       "  </thead>\n",
       "  <tbody>\n",
       "    <tr>\n",
       "      <th>2010-01-01 00:00:00+00:00</th>\n",
       "      <td>5.72</td>\n",
       "      <td>99.18</td>\n",
       "      <td>0.0</td>\n",
       "      <td>0.0</td>\n",
       "      <td>0.0</td>\n",
       "      <td>311.93</td>\n",
       "      <td>1.08</td>\n",
       "      <td>148.0</td>\n",
       "      <td>95127.0</td>\n",
       "    </tr>\n",
       "    <tr>\n",
       "      <th>2010-01-01 01:00:00+00:00</th>\n",
       "      <td>5.64</td>\n",
       "      <td>99.11</td>\n",
       "      <td>0.0</td>\n",
       "      <td>0.0</td>\n",
       "      <td>0.0</td>\n",
       "      <td>310.34</td>\n",
       "      <td>1.02</td>\n",
       "      <td>156.0</td>\n",
       "      <td>95124.0</td>\n",
       "    </tr>\n",
       "    <tr>\n",
       "      <th>2010-01-01 02:00:00+00:00</th>\n",
       "      <td>5.56</td>\n",
       "      <td>99.05</td>\n",
       "      <td>0.0</td>\n",
       "      <td>0.0</td>\n",
       "      <td>0.0</td>\n",
       "      <td>308.75</td>\n",
       "      <td>0.95</td>\n",
       "      <td>165.0</td>\n",
       "      <td>95121.0</td>\n",
       "    </tr>\n",
       "    <tr>\n",
       "      <th>2010-01-01 03:00:00+00:00</th>\n",
       "      <td>5.48</td>\n",
       "      <td>98.98</td>\n",
       "      <td>0.0</td>\n",
       "      <td>0.0</td>\n",
       "      <td>0.0</td>\n",
       "      <td>307.16</td>\n",
       "      <td>0.88</td>\n",
       "      <td>205.0</td>\n",
       "      <td>95117.0</td>\n",
       "    </tr>\n",
       "    <tr>\n",
       "      <th>2010-01-01 04:00:00+00:00</th>\n",
       "      <td>5.40</td>\n",
       "      <td>98.92</td>\n",
       "      <td>0.0</td>\n",
       "      <td>0.0</td>\n",
       "      <td>0.0</td>\n",
       "      <td>305.57</td>\n",
       "      <td>0.81</td>\n",
       "      <td>246.0</td>\n",
       "      <td>95114.0</td>\n",
       "    </tr>\n",
       "    <tr>\n",
       "      <th>...</th>\n",
       "      <td>...</td>\n",
       "      <td>...</td>\n",
       "      <td>...</td>\n",
       "      <td>...</td>\n",
       "      <td>...</td>\n",
       "      <td>...</td>\n",
       "      <td>...</td>\n",
       "      <td>...</td>\n",
       "      <td>...</td>\n",
       "    </tr>\n",
       "    <tr>\n",
       "      <th>2010-12-31 19:00:00+00:00</th>\n",
       "      <td>6.11</td>\n",
       "      <td>99.50</td>\n",
       "      <td>0.0</td>\n",
       "      <td>0.0</td>\n",
       "      <td>0.0</td>\n",
       "      <td>319.88</td>\n",
       "      <td>1.43</td>\n",
       "      <td>132.0</td>\n",
       "      <td>94857.0</td>\n",
       "    </tr>\n",
       "    <tr>\n",
       "      <th>2010-12-31 20:00:00+00:00</th>\n",
       "      <td>6.03</td>\n",
       "      <td>99.43</td>\n",
       "      <td>0.0</td>\n",
       "      <td>0.0</td>\n",
       "      <td>0.0</td>\n",
       "      <td>318.29</td>\n",
       "      <td>1.36</td>\n",
       "      <td>127.0</td>\n",
       "      <td>94897.0</td>\n",
       "    </tr>\n",
       "    <tr>\n",
       "      <th>2010-12-31 21:00:00+00:00</th>\n",
       "      <td>5.95</td>\n",
       "      <td>99.37</td>\n",
       "      <td>0.0</td>\n",
       "      <td>0.0</td>\n",
       "      <td>0.0</td>\n",
       "      <td>316.70</td>\n",
       "      <td>1.29</td>\n",
       "      <td>127.0</td>\n",
       "      <td>94910.0</td>\n",
       "    </tr>\n",
       "    <tr>\n",
       "      <th>2010-12-31 22:00:00+00:00</th>\n",
       "      <td>5.87</td>\n",
       "      <td>99.30</td>\n",
       "      <td>0.0</td>\n",
       "      <td>0.0</td>\n",
       "      <td>0.0</td>\n",
       "      <td>315.11</td>\n",
       "      <td>1.22</td>\n",
       "      <td>127.0</td>\n",
       "      <td>94922.0</td>\n",
       "    </tr>\n",
       "    <tr>\n",
       "      <th>2010-12-31 23:00:00+00:00</th>\n",
       "      <td>5.79</td>\n",
       "      <td>99.24</td>\n",
       "      <td>0.0</td>\n",
       "      <td>0.0</td>\n",
       "      <td>0.0</td>\n",
       "      <td>313.52</td>\n",
       "      <td>1.15</td>\n",
       "      <td>127.0</td>\n",
       "      <td>94934.0</td>\n",
       "    </tr>\n",
       "  </tbody>\n",
       "</table>\n",
       "<p>8760 rows × 9 columns</p>\n",
       "</div>"
      ],
      "text/plain": [
       "                           temp_air     RH  ghi  dni  dhi   IR(h)  wind_speed  \\\n",
       "time(UTC)                                                                       \n",
       "2010-01-01 00:00:00+00:00      5.72  99.18  0.0  0.0  0.0  311.93        1.08   \n",
       "2010-01-01 01:00:00+00:00      5.64  99.11  0.0  0.0  0.0  310.34        1.02   \n",
       "2010-01-01 02:00:00+00:00      5.56  99.05  0.0  0.0  0.0  308.75        0.95   \n",
       "2010-01-01 03:00:00+00:00      5.48  98.98  0.0  0.0  0.0  307.16        0.88   \n",
       "2010-01-01 04:00:00+00:00      5.40  98.92  0.0  0.0  0.0  305.57        0.81   \n",
       "...                             ...    ...  ...  ...  ...     ...         ...   \n",
       "2010-12-31 19:00:00+00:00      6.11  99.50  0.0  0.0  0.0  319.88        1.43   \n",
       "2010-12-31 20:00:00+00:00      6.03  99.43  0.0  0.0  0.0  318.29        1.36   \n",
       "2010-12-31 21:00:00+00:00      5.95  99.37  0.0  0.0  0.0  316.70        1.29   \n",
       "2010-12-31 22:00:00+00:00      5.87  99.30  0.0  0.0  0.0  315.11        1.22   \n",
       "2010-12-31 23:00:00+00:00      5.79  99.24  0.0  0.0  0.0  313.52        1.15   \n",
       "\n",
       "                           WD10m       SP  \n",
       "time(UTC)                                  \n",
       "2010-01-01 00:00:00+00:00  148.0  95127.0  \n",
       "2010-01-01 01:00:00+00:00  156.0  95124.0  \n",
       "2010-01-01 02:00:00+00:00  165.0  95121.0  \n",
       "2010-01-01 03:00:00+00:00  205.0  95117.0  \n",
       "2010-01-01 04:00:00+00:00  246.0  95114.0  \n",
       "...                          ...      ...  \n",
       "2010-12-31 19:00:00+00:00  132.0  94857.0  \n",
       "2010-12-31 20:00:00+00:00  127.0  94897.0  \n",
       "2010-12-31 21:00:00+00:00  127.0  94910.0  \n",
       "2010-12-31 22:00:00+00:00  127.0  94922.0  \n",
       "2010-12-31 23:00:00+00:00  127.0  94934.0  \n",
       "\n",
       "[8760 rows x 9 columns]"
      ]
     },
     "execution_count": 11,
     "metadata": {},
     "output_type": "execute_result"
    }
   ],
   "source": [
    "data0"
   ]
  },
  {
   "cell_type": "code",
   "execution_count": 12,
   "metadata": {},
   "outputs": [
    {
     "data": {
      "image/png": "[encoded data removed]",
      "text/plain": [
       "<Figure size 432x288 with 1 Axes>"
      ]
     },
     "metadata": {
      "needs_background": "light"
     },
     "output_type": "display_data"
    }
   ],
   "source": [
    "plt.plot(dc_pv['p_mp'], label='Vidrio solar (Pmp)')\n",
    "plt.plot((dc_cpv['p_mp'] * uf_cpv), label='cpv (Pmp)')\n",
    "plt.plot(dc_flatplate['p_mp'], label='flatplate (Pmp)')\n",
    "plt.legend()\n",
    "plt.show()"
   ]
  },
  {
   "cell_type": "code",
   "execution_count": 13,
   "metadata": {},
   "outputs": [
    {
     "data": {
      "text/plain": [
       "8760"
      ]
     },
     "execution_count": 13,
     "metadata": {},
     "output_type": "execute_result"
    }
   ],
   "source": [
    "len(dc_pv['p_mp'])\n"
   ]
  },
  {
   "cell_type": "code",
   "execution_count": 14,
   "metadata": {},
   "outputs": [
    {
     "data": {
      "text/plain": [
       "array([ 0., -0., -0., ...,  0., -0.,  0.])"
      ]
     },
     "execution_count": 14,
     "metadata": {},
     "output_type": "execute_result"
    }
   ],
   "source": [
    "dc_pv['p_mp']"
   ]
  },
  {
   "cell_type": "code",
   "execution_count": 15,
   "metadata": {},
   "outputs": [
    {
     "data": {
      "text/plain": [
       "8760"
      ]
     },
     "execution_count": 15,
     "metadata": {},
     "output_type": "execute_result"
    }
   ],
   "source": [
    "len(dc_cpv['p_mp'])"
   ]
  },
  {
   "cell_type": "code",
   "execution_count": 16,
   "metadata": {},
   "outputs": [
    {
     "data": {
      "text/plain": [
       "time(UTC)\n",
       "2010-01-01 00:00:00+00:00    0.000000e+00\n",
       "2010-01-01 01:00:00+00:00   -0.000000e+00\n",
       "2010-01-01 02:00:00+00:00    1.095978e-49\n",
       "2010-01-01 03:00:00+00:00    1.095978e-49\n",
       "2010-01-01 04:00:00+00:00    0.000000e+00\n",
       "                                 ...     \n",
       "2010-12-31 19:00:00+00:00    1.095978e-49\n",
       "2010-12-31 20:00:00+00:00    1.095978e-49\n",
       "2010-12-31 21:00:00+00:00    0.000000e+00\n",
       "2010-12-31 22:00:00+00:00    0.000000e+00\n",
       "2010-12-31 23:00:00+00:00   -0.000000e+00\n",
       "Name: p_mp, Length: 8760, dtype: float64"
      ]
     },
     "execution_count": 16,
     "metadata": {},
     "output_type": "execute_result"
    }
   ],
   "source": [
    "dc_cpv['p_mp']"
   ]
  },
  {
   "cell_type": "markdown",
   "metadata": {},
   "source": [
    "### Observamos que los valores de potencia tienen un formato diferente, los correspondientes al módulo de concentración tienen forma de tabla, con la fecha como índice, y los del vidrio solar, de array. \n",
    "\n",
    "### Se ha comprobado la longitud de columna y del array y ambos presentan 8760 valores, uno por cada hora durante el año. Al hacer \".sum\", no debería haber problema con los diferentes formatos, pero no se me ocurre donde más puede residir el error, ya que esta potencia es calculada directamente con la funcion de PVlib \"singlediode\".\n"
   ]
  }
 ],
 "metadata": {
  "kernelspec": {
   "display_name": "Python 3",
   "language": "python",
   "name": "python3"
  },
  "language_info": {
   "codemirror_mode": {
    "name": "ipython",
    "version": 3
   },
   "file_extension": ".py",
   "mimetype": "text/x-python",
   "name": "python",
   "nbconvert_exporter": "python",
   "pygments_lexer": "ipython3",
   "version": "3.8.5"
  }
 },
 "nbformat": 4,
 "nbformat_minor": 4
}
