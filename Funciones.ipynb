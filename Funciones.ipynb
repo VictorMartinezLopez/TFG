{
 "cells": [
  {
   "cell_type": "code",
   "execution_count": null,
   "metadata": {},
   "outputs": [],
   "source": [
    "!pip install pvlib\n",
    "!pip install --force-reinstall --no-deps git+https://github.com/isi-ies-group/cpvlib.git"
   ]
  },
  {
   "cell_type": "code",
   "execution_count": 1,
   "metadata": {},
   "outputs": [],
   "source": [
    "import pandas as pd\n",
    "import pvlib\n",
    "import datetime\n",
    "import matplotlib.pyplot as plt\n",
    "import numpy as np\n",
    "from cpvlib import cpvsystem"
   ]
  },
  {
   "cell_type": "markdown",
   "metadata": {},
   "source": [
    "# Parámetros de los módulos"
   ]
  },
  {
   "cell_type": "code",
   "execution_count": 2,
   "metadata": {},
   "outputs": [],
   "source": [
    "mod_params_vidrio = {\n",
    "    'alpha_sc': 0.0008*8.93,#temp coef of Isc 0.007144\n",
    "    'a_ref': 0.712,\n",
    "    'I_L_ref': 8.994,\n",
    "    'I_o_ref': 0.00000157,\n",
    "    'R_s': 0.01,\n",
    "    'R_sh_ref': 3000,\n",
    "    'EgRef': 1.121,\n",
    "}\n",
    "\n",
    "system = {   \n",
    "    'surface_tilt': 30,      #Inclinación\n",
    "    'surface_azimuth': 180,  #ángulo de la proyección en el suelo a la direccion norte\n",
    "}\n",
    "\n",
    "mod_params_cpv = {\n",
    "    \"gamma_ref\": 5.524,\n",
    "    \"mu_gamma\": 0.003,\n",
    "    \"I_L_ref\": 0.96*0.9,\n",
    "    \"I_o_ref\": 1.7e-10,\n",
    "    \"R_sh_ref\": 5226,\n",
    "    \"R_sh_0\": 21000,\n",
    "    \"R_sh_exp\": 5.50,\n",
    "    \"R_s\": 0.01,\n",
    "    \"alpha_sc\": 0.00,\n",
    "    \"EgRef\": 3.91,\n",
    "    \"irrad_ref\": 1000,\n",
    "    \"temp_ref\": 25,\n",
    "    \"cells_in_series\": 12,\n",
    "    \"eta_m\": 0.32,\n",
    "    \"alpha_absorption\": 0.9,\n",
    "    \"b\": 0.7,\n",
    "    \"iam_model\": 'ashrae',\n",
    "    \"theta_ref\": [0, 5, 10, 15, 20, 25, 30, 35, 40, 45, 50, 55, 60],\n",
    "    \"iam_ref\": [1.000, 1.007, 0.998, 0.991, 0.971, 0.966, 0.938, 0.894, 0.830, 0.790, 0.740, 0.649, 0.387],\n",
    "}\n",
    "\n",
    "UF_parameters_cpv = {\n",
    "    \"IscDNI_top\": 0.96 / 1000,\n",
    "    \"am_thld\": 4.574231933073185,\n",
    "    \"am_uf_m_low\": 3.906372068620377e-06,\n",
    "    \"am_uf_m_high\": -3.0335768119184845e-05,\n",
    "    \"ta_thld\": 50,\n",
    "    \"ta_uf_m_low\": 4.6781224141650075e-06,\n",
    "    \"ta_uf_m_high\": 0,\n",
    "    \"weight_am\": 0.2,\n",
    "    \"weight_temp\": 0.8,\n",
    "}\n",
    "\n",
    "mod_params_cpv.update(UF_parameters_cpv)\n",
    "\n",
    "# example (NO Insolight) PV module from:\n",
    "# https://pvpmc.sandia.gov/PVLIB_Matlab_Help/html/pvl_calcparams_PVsyst_help.html\n",
    "mod_params_flatplate = {\n",
    "    \"gamma_ref\": 1.1,\n",
    "    \"mu_gamma\": -0.0003,\n",
    "    \"I_L_ref\": 8,\n",
    "    \"I_o_ref\": 2.2e-9,\n",
    "    \"R_sh_ref\": 200,\n",
    "    \"R_sh_0\": 8700,\n",
    "    \"R_sh_exp\": 5.5,\n",
    "    \"R_s\": 0.33,\n",
    "    \"alpha_sc\": -0.002,\n",
    "    \"EgRef\": 1.121,\n",
    "    \"irrad_ref\": 1000,\n",
    "    \"temp_ref\": 25,\n",
    "    \"cells_in_series\": 4, # 60,\n",
    "    \"eta_m\": 0.95,  # pvsyst_celltemp() default value\n",
    "    \"alpha_absorption\": 0.97,  # pvsyst_celltemp() default value\n",
    "    \"aoi_limit\": 55,\n",
    "}"
   ]
  },
  {
   "cell_type": "markdown",
   "metadata": {},
   "source": [
    "# Funciones"
   ]
  },
  {
   "cell_type": "code",
   "execution_count": 3,
   "metadata": {},
   "outputs": [],
   "source": [
    "def obtencionDatos(name, lat, lon, alt, tz):\n",
    "    data_pvgis = pvlib.iotools.get_pvgis_tmy(lat, lon)\n",
    "    data = data_pvgis[0].rename(columns={\n",
    "        'Gb(n)': 'dni',\n",
    "        'G(h)': 'ghi',\n",
    "        'Gd(h)': 'dhi',\n",
    "        'T2m': 'temp_air',\n",
    "        'WS10m': 'wind_speed',\n",
    "    })\n",
    "    data = data.set_index(\n",
    "        data.index.map(lambda t: t.replace(year=2010)))\n",
    "\n",
    "    location = pvlib.location.Location(latitude=lat, \n",
    "                                       longitude=lon, \n",
    "                                       altitude=alt, \n",
    "                                       tz=tz)\n",
    "    data['solar_zenith'] = pvlib.solarposition.get_solarposition(data.index, lat, lon).zenith\n",
    "    data['solar_azimuth'] = pvlib.solarposition.get_solarposition(data.index, lat, lon).azimuth\n",
    "    data['airmass_absolute'] = location.get_airmass(data.index).airmass_absolute\n",
    "    return data"
   ]
  },
  {
   "cell_type": "code",
   "execution_count": 4,
   "metadata": {},
   "outputs": [],
   "source": [
    "def generacionVidrio(params, system, data):\n",
    "    dii = pvlib.irradiance.beam_component(system['surface_tilt'],\n",
    "                                          system['surface_azimuth'],\n",
    "                                          solar_zenith=data['solar_zenith'],\n",
    "                                          solar_azimuth=data['solar_azimuth'],\n",
    "                                          dni=data['dni'])\n",
    "\n",
    "    aoi = pvlib.irradiance.aoi(system['surface_tilt'], \n",
    "                               system['surface_azimuth'],\n",
    "                               solar_zenith=data['solar_zenith'],\n",
    "                               solar_azimuth=data['solar_azimuth'])\n",
    "\n",
    "    poa_sky=pvlib.irradiance.get_sky_diffuse(system['surface_tilt'],\n",
    "                                             system['surface_azimuth'],\n",
    "                                             solar_zenith=data['solar_zenith'],\n",
    "                                             solar_azimuth=data['solar_azimuth'],\n",
    "                                             ghi=data['ghi'],\n",
    "                                             dhi=data['dhi'],\n",
    "                                             dni=data['dni'],\n",
    "                                             dni_extra=None, \n",
    "                                             airmass=None, \n",
    "                                             model='isotropic', \n",
    "                                             model_perez='allsitescomposite1990')\n",
    "\n",
    "    poa_ground=pvlib.irradiance.get_ground_diffuse(system['surface_tilt'], \n",
    "                                                   ghi=data['ghi'], \n",
    "                                                   albedo=0.25, \n",
    "                                                   surface_type=None)\n",
    "\n",
    "    poa_irrad=pvlib.irradiance.poa_components(aoi=aoi, \n",
    "                                              dni=data['dni'], \n",
    "                                              poa_sky_diffuse=poa_sky, \n",
    "                                              poa_ground_diffuse=poa_ground)\n",
    "\n",
    "    effectiveIrradiance = poa_irrad.poa_direct * np.absolute(np.cos(aoi)) * pvlib.iam.ashrae(aoi) + poa_irrad.poa_diffuse\n",
    "\n",
    "    tempcell=pvlib.temperature.pvsyst_cell(poa_irrad.poa_global, \n",
    "                                       data['temp_air'], \n",
    "                                       data['wind_speed'])\n",
    "\n",
    "    IL, I0, Rs, Rsh, nNsVth = pvlib.pvsystem.calcparams_desoto(\n",
    "        effective_irradiance=effectiveIrradiance,\n",
    "        temp_cell=tempcell,\n",
    "        alpha_sc=mod_params_vidrio['alpha_sc'],\n",
    "        a_ref=mod_params_vidrio['a_ref'],\n",
    "        I_L_ref=mod_params_vidrio['I_L_ref'],\n",
    "        I_o_ref=mod_params_vidrio['I_o_ref'],\n",
    "        R_sh_ref=mod_params_vidrio['R_sh_ref'],\n",
    "        R_s=mod_params_vidrio['R_s'],\n",
    "        EgRef=mod_params_vidrio['EgRef'],\n",
    "    )\n",
    "\n",
    "    dc_pv = pvlib.pvsystem.singlediode(\n",
    "        photocurrent=IL,\n",
    "        saturation_current=I0,\n",
    "        resistance_series=Rs,\n",
    "        resistance_shunt=Rsh,\n",
    "        nNsVth=nNsVth,\n",
    "        ivcurve_pnts=100,\n",
    "        method='lambertw'\n",
    "    )\n",
    "    \n",
    "    dc = pd.DataFrame(dc_pv['p_mp'], index = data.index)\n",
    "    \n",
    "    return dc"
   ]
  },
  {
   "cell_type": "code",
   "execution_count": 5,
   "metadata": {},
   "outputs": [],
   "source": [
    "def generacionCPV(paramsCPV, paramsFlatPlate, system, data):\n",
    "    static_hybrid_sys = cpvsystem.StaticHybridSystem(\n",
    "        surface_tilt=system['surface_tilt'],\n",
    "        surface_azimuth=system['surface_azimuth'],\n",
    "        module_cpv=None,\n",
    "        module_flatplate=None,\n",
    "        module_parameters_cpv=paramsCPV,\n",
    "        module_parameters_flatplate=paramsFlatPlate,\n",
    "        modules_per_string=1,\n",
    "        strings_per_inverter=1,\n",
    "        inverter=None,\n",
    "        inverter_parameters=None,\n",
    "        racking_model=\"insulated\",\n",
    "        losses_parameters=None,\n",
    "        name=None,\n",
    "    )\n",
    "\n",
    "    dii_effective, poa_flatplate_static_effective = static_hybrid_sys.get_effective_irradiance(\n",
    "        data['solar_zenith'],\n",
    "        data['solar_azimuth'],\n",
    "        #iam_param=0.7,\n",
    "        #aoi_limit=55,\n",
    "        dii=None,\n",
    "        ghi=data['ghi'],\n",
    "        dhi=data['dhi'],\n",
    "        dni=data['dni']\n",
    "    )\n",
    "\n",
    "\n",
    "    temp_cell_35, temp_cell_flatplate = static_hybrid_sys.pvsyst_celltemp(\n",
    "        dii=dii_effective,\n",
    "        poa_flatplate_static=poa_flatplate_static_effective,\n",
    "        temp_air=data['temp_air'],\n",
    "        wind_speed=data['wind_speed']\n",
    "    )\n",
    "\n",
    "    diode_parameters_cpv, diode_parameters_flatplate = static_hybrid_sys.calcparams_pvsyst(\n",
    "        dii=dii_effective,\n",
    "        poa_flatplate_static=poa_flatplate_static_effective,\n",
    "        temp_cell_cpv=temp_cell_35,\n",
    "        temp_cell_flatplate=temp_cell_flatplate,\n",
    "    )\n",
    "\n",
    "    dc_cpv, dc_flatplate = static_hybrid_sys.singlediode(\n",
    "        diode_parameters_cpv, diode_parameters_flatplate)\n",
    "\n",
    "    uf_cpv = static_hybrid_sys.get_global_utilization_factor_cpv(data['airmass_absolute'],\n",
    "                                                                 data['temp_air'])\n",
    "\n",
    "    return dc_cpv['p_mp'] * uf_cpv + dc_flatplate['p_mp']"
   ]
  },
  {
   "cell_type": "code",
   "execution_count": 6,
   "metadata": {},
   "outputs": [],
   "source": [
    "Madrid = obtencionDatos('Madrid', 40.421707, -3.612245, 695, 'utc')\n",
    "Vivares = obtencionDatos('Madrid', 39.085667, -5.898909, 283, 'utc')"
   ]
  },
  {
   "cell_type": "code",
   "execution_count": 7,
   "metadata": {},
   "outputs": [],
   "source": [
    "vidrioMad = generacionVidrio(mod_params_vidrio, system, Madrid)\n",
    "vidrioViv = generacionVidrio(mod_params_vidrio, system, Vivares)"
   ]
  },
  {
   "cell_type": "code",
   "execution_count": 8,
   "metadata": {},
   "outputs": [],
   "source": [
    "CPVMad = generacionCPV(mod_params_cpv, mod_params_flatplate, system, Madrid)\n",
    "CPVViv = generacionCPV(mod_params_cpv, mod_params_flatplate, system, Vivares)"
   ]
  },
  {
   "cell_type": "code",
   "execution_count": 9,
   "metadata": {},
   "outputs": [
    {
     "data": {
      "image/png": "[encoded data removed]",
      "text/plain": [
       "<Figure size 432x288 with 1 Axes>"
      ]
     },
     "metadata": {
      "needs_background": "light"
     },
     "output_type": "display_data"
    }
   ],
   "source": [
    "plt.plot(vidrioMad, label='VidrioMad')\n",
    "plt.plot(vidrioViv, label='VidrioViv')\n",
    "plt.legend()\n",
    "plt.show()"
   ]
  },
  {
   "cell_type": "code",
   "execution_count": 10,
   "metadata": {},
   "outputs": [
    {
     "data": {
      "image/png": "[encoded data removed]",
      "text/plain": [
       "<Figure size 432x288 with 1 Axes>"
      ]
     },
     "metadata": {
      "needs_background": "light"
     },
     "output_type": "display_data"
    }
   ],
   "source": [
    "plt.plot(CPVMad, label='CPVmad')\n",
    "plt.plot(CPVViv, label='CPVViv')\n",
    "plt.legend()\n",
    "plt.show()"
   ]
  },
  {
   "cell_type": "code",
   "execution_count": 11,
   "metadata": {},
   "outputs": [
    {
     "data": {
      "text/plain": [
       "0    92294.517877\n",
       "dtype: float64"
      ]
     },
     "execution_count": 11,
     "metadata": {},
     "output_type": "execute_result"
    }
   ],
   "source": [
    "vidrioMad.sum()"
   ]
  },
  {
   "cell_type": "code",
   "execution_count": 12,
   "metadata": {},
   "outputs": [
    {
     "data": {
      "text/plain": [
       "0    87332.944033\n",
       "dtype: float64"
      ]
     },
     "execution_count": 12,
     "metadata": {},
     "output_type": "execute_result"
    }
   ],
   "source": [
    "vidrioViv.sum()"
   ]
  },
  {
   "cell_type": "code",
   "execution_count": 13,
   "metadata": {},
   "outputs": [
    {
     "data": {
      "text/plain": [
       "34227.33575228512"
      ]
     },
     "execution_count": 13,
     "metadata": {},
     "output_type": "execute_result"
    }
   ],
   "source": [
    "CPVMad.sum()"
   ]
  },
  {
   "cell_type": "code",
   "execution_count": 14,
   "metadata": {},
   "outputs": [
    {
     "data": {
      "text/plain": [
       "33125.61701864894"
      ]
     },
     "execution_count": 14,
     "metadata": {},
     "output_type": "execute_result"
    }
   ],
   "source": [
    "CPVViv.sum()"
   ]
  },
  {
   "cell_type": "code",
   "execution_count": null,
   "metadata": {},
   "outputs": [],
   "source": []
  }
 ],
 "metadata": {
  "kernelspec": {
   "display_name": "Python 3",
   "language": "python",
   "name": "python3"
  },
  "language_info": {
   "codemirror_mode": {
    "name": "ipython",
    "version": 3
   },
   "file_extension": ".py",
   "mimetype": "text/x-python",
   "name": "python",
   "nbconvert_exporter": "python",
   "pygments_lexer": "ipython3",
   "version": "3.8.5"
  }
 },
 "nbformat": 4,
 "nbformat_minor": 4
}
